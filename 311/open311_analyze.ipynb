{
 "metadata": {
  "name": ""
 },
 "nbformat": 3,
 "nbformat_minor": 0,
 "worksheets": [
  {
   "cells": [
    {
     "cell_type": "code",
     "collapsed": false,
     "input": [
      "import pickle\n",
      "\n",
      "import pandas as pd\n",
      "import numpy as np\n",
      "\n",
      "from matplotlib import pyplot as plt\n",
      "\n",
      "%matplotlib inline"
     ],
     "language": "python",
     "metadata": {},
     "outputs": [
      {
       "output_type": "stream",
       "stream": "stderr",
       "text": [
        "/Users/robert/anaconda/lib/python2.7/site-packages/pytz/__init__.py:35: UserWarning: Module argparse was already imported from /Users/robert/anaconda/python.app/Contents/lib/python2.7/argparse.pyc, but /Users/robert/anaconda/lib/python2.7/site-packages is being added to sys.path\n",
        "  from pkg_resources import resource_stream\n"
       ]
      }
     ],
     "prompt_number": 2
    },
    {
     "cell_type": "code",
     "collapsed": false,
     "input": [
      "# add city to dataframe\n",
      "city = []\n",
      "for i, (lat, lon) in df[['latitude', 'longitude']].iterrows():\n",
      "    if lat<39: # south\n",
      "        if lon<-110: # southwest\n",
      "            city.append('Oakland')\n",
      "        else: # southeast\n",
      "            city.append('Richmond')\n",
      "    else: # north\n",
      "        if lon<-80: # northwest\n",
      "            city.append('Chicago')\n",
      "        else: # northeast\n",
      "            city.append('New Haven')\n",
      "df['city'] = city"
     ],
     "language": "python",
     "metadata": {},
     "outputs": [],
     "prompt_number": 10
    },
    {
     "cell_type": "markdown",
     "metadata": {},
     "source": [
      "## Bag of words model"
     ]
    },
    {
     "cell_type": "markdown",
     "metadata": {},
     "source": [
      "Load precomputed bag of words"
     ]
    },
    {
     "cell_type": "code",
     "collapsed": false,
     "input": [
      "with open('descriptions.pkl') as f:\n",
      "    descriptions = pickle.load(f)"
     ],
     "language": "python",
     "metadata": {},
     "outputs": [],
     "prompt_number": 5
    },
    {
     "cell_type": "code",
     "collapsed": false,
     "input": [
      "import re\n",
      "from sklearn.feature_extraction.text import CountVectorizer\n",
      "from stemming.porter2 import stem"
     ],
     "language": "python",
     "metadata": {},
     "outputs": [],
     "prompt_number": 11
    },
    {
     "cell_type": "code",
     "collapsed": false,
     "input": [
      "# find all words longer than 2 letters\n",
      "p = re.compile('[A-Za-z]{2,20}')\n",
      "x = 'Hi there! I have a 28th birthday is at 1501 Woolsey St'\n",
      "p.findall(x)"
     ],
     "language": "python",
     "metadata": {},
     "outputs": []
    },
    {
     "cell_type": "markdown",
     "metadata": {},
     "source": [
      "### fit the corpus to the bag of words"
     ]
    },
    {
     "cell_type": "code",
     "collapsed": false,
     "input": [
      "vectorizer = CountVectorizer(min_df=1, preprocessor=stem, lowercase=True)\n",
      "wordmat = vectorizer.fit_transform(descriptions)\n",
      "feature_names = vectorizer.get_feature_names()"
     ],
     "language": "python",
     "metadata": {},
     "outputs": [],
     "prompt_number": 12
    },
    {
     "cell_type": "code",
     "collapsed": false,
     "input": [
      "# sum each columns (word) to get a count for each word\n",
      "wordcounts = wordmat.sum(0).A1\n",
      "print 'wordcounts:\\n%s' % str(wordcounts[:10])"
     ],
     "language": "python",
     "metadata": {},
     "outputs": [
      {
       "output_type": "stream",
       "stream": "stdout",
       "text": [
        "wordcounts:\n",
        "[  1   1   1   2   1   1   1   1   3 704]\n"
       ]
      }
     ],
     "prompt_number": 13
    },
    {
     "cell_type": "code",
     "collapsed": false,
     "input": [
      "# get the column numbers for the top 100 words\n",
      "ix = wordcounts.argsort()[::-1] # sort index for words (least to greatest)\n",
      "print 'ix:\\n%s\\n' % str(ix[:10])\n",
      "print 'wordcounts:\\n%s\\n' % str(wordcounts[ix[:10]])\n",
      "\n",
      "ix100 = ix[:100] # indices for\n",
      "wordmat100 = wordmat[:, ix[:100]]\n",
      "\n",
      "print 'top words:'\n",
      "for ix in ix100:\n",
      "    print '%s \\ ' % feature_names[ix],"
     ],
     "language": "python",
     "metadata": {},
     "outputs": [
      {
       "output_type": "stream",
       "stream": "stdout",
       "text": [
        "ix:\n",
        "[ 2621  5231  9537 12459   307 10124  9862  8356  4712 12931]\n",
        "\n",
        "wordcounts:\n",
        "[29542 21503 14488 12767 11616 11493 11044 10223 10108  9294]\n",
        "\n",
        "top words:"
       ]
      },
      {
       "output_type": "stream",
       "stream": "stdout",
       "text": [
        "\n",
        "complet \\  graffiti \\  paint \\  street \\  alley \\  pothol \\  pick \\  need \\  for \\  that \\  clear \\  com \\  tree \\  or \\  are \\  plea \\  issu \\  front \\  patch \\  there \\  out \\  brush \\  with \\  was \\  citizen \\  locat \\  citi \\  has \\  light \\  not \\  comment \\  nif \\  trash \\  report \\  from \\  work \\  if \\  state \\  have \\  help \\  oakland \\  public \\  st \\  us \\  bulk \\  phone \\  email \\  hydrant \\  via \\  blast \\  www \\  side \\  agenc \\  web \\  oaklandnet \\  pwacallc \\  oaklandpw \\  been \\  request \\  debri \\  item \\  th \\  remov \\  mattress \\  address \\  sidewalk \\  park \\  we \\  limb \\  would \\  properti \\  will \\  servic \\  back \\  behind \\  traffic \\  corner \\  by \\  dump \\  close \\  block \\  transfer \\  neighbor \\  outcom \\  your \\  no \\  post \\  could \\  larg \\  call \\  all \\  lot \\  know \\  furnitur \\  can \\  control \\  car \\  photo \\  chang \\  between \\ \n"
       ]
      }
     ],
     "prompt_number": 16
    },
    {
     "cell_type": "markdown",
     "metadata": {},
     "source": [
      "## Fit"
     ]
    },
    {
     "cell_type": "code",
     "collapsed": false,
     "input": [
      "from sklearn.preprocessing import LabelBinarizer, LabelEncoder"
     ],
     "language": "python",
     "metadata": {},
     "outputs": [],
     "prompt_number": 17
    },
    {
     "cell_type": "code",
     "collapsed": false,
     "input": [
      "def encode_binarize(ser):\n",
      "    encoder = LabelEncoder()\n",
      "    encoded = encoder.fit_transform(ser.values)\n",
      "    \n",
      "    binarizer = LabelBinarizer()\n",
      "    binarized = binarizer.fit_transform(encoded)\n",
      "    return binarized"
     ],
     "language": "python",
     "metadata": {},
     "outputs": [],
     "prompt_number": 18
    },
    {
     "cell_type": "code",
     "collapsed": false,
     "input": [
      "tags = encode_binarize(df.tag_type)\n",
      "sources = encode_binarize(df.source)\n",
      "cities = encode_binarize(df.city)"
     ],
     "language": "python",
     "metadata": {},
     "outputs": [],
     "prompt_number": 19
    },
    {
     "cell_type": "code",
     "collapsed": false,
     "input": [
      "nchar = df.description_nchar.values[..., np.newaxis]"
     ],
     "language": "python",
     "metadata": {},
     "outputs": [],
     "prompt_number": 41
    },
    {
     "cell_type": "code",
     "collapsed": false,
     "input": [
      "X = np.hstack((wordmat100.toarray(), nchar, tags, sources, cities))"
     ],
     "language": "python",
     "metadata": {},
     "outputs": [],
     "prompt_number": 42
    },
    {
     "cell_type": "code",
     "collapsed": false,
     "input": [
      "Y = df[['log'+i for i in depvars]].values\n",
      "# Y2 = np.log10(Y+1)\n",
      "print X.shape, Y.shape"
     ],
     "language": "python",
     "metadata": {},
     "outputs": [
      {
       "output_type": "stream",
       "stream": "stdout",
       "text": [
        "(223129, 157) (223129, 3)\n"
       ]
      }
     ],
     "prompt_number": 43
    },
    {
     "cell_type": "markdown",
     "metadata": {},
     "source": [
      "### fit Linear Regression"
     ]
    },
    {
     "cell_type": "code",
     "collapsed": false,
     "input": [
      "from sklearn.linear_model import LinearRegression\n",
      "lr = LinearRegression()"
     ],
     "language": "python",
     "metadata": {},
     "outputs": [],
     "prompt_number": 44
    },
    {
     "cell_type": "code",
     "collapsed": false,
     "input": [
      "lr.fit(X, Y)\n",
      "Y_pred_ = lr.predict(X)"
     ],
     "language": "python",
     "metadata": {},
     "outputs": [],
     "prompt_number": 45
    },
    {
     "cell_type": "code",
     "collapsed": false,
     "input": [
      "fig, axs = plt.subplots(1, 3, figsize=(12, 4));\n",
      "for i in range(3):\n",
      "    axs[i].plot(Y[:, i], Y_pred[:, i], marker='.', ms=0.5, ls='');\n",
      "    axs[i].set_title(depvars[i])"
     ],
     "language": "python",
     "metadata": {},
     "outputs": [
      {
       "metadata": {},
       "output_type": "display_data",
       "png": "[encoded data removed]",
       "text": [
        "<matplotlib.figure.Figure at 0x105e06390>"
       ]
      }
     ],
     "prompt_number": 46
    },
    {
     "cell_type": "code",
     "collapsed": false,
     "input": [
      "print lr.score(X, Y)"
     ],
     "language": "python",
     "metadata": {},
     "outputs": [
      {
       "output_type": "stream",
       "stream": "stdout",
       "text": [
        "0.622433060285\n"
       ]
      }
     ],
     "prompt_number": 47
    },
    {
     "cell_type": "code",
     "collapsed": false,
     "input": [
      "print Y[:5, :]\n",
      "print Y_pred[:5, :].astype(int)"
     ],
     "language": "python",
     "metadata": {},
     "outputs": []
    },
    {
     "cell_type": "code",
     "collapsed": false,
     "input": [
      "fig, ax = plt.subplots(1, 3, figsize=(12, 4))\n",
      "for i in xrange(3):\n",
      "    ax[i].plot(Y[:, i], Y_pred[:, i], ls='', marker='.', ms=0.5)"
     ],
     "language": "python",
     "metadata": {},
     "outputs": []
    },
    {
     "cell_type": "markdown",
     "metadata": {},
     "source": [
      "### Ridge regression"
     ]
    },
    {
     "cell_type": "code",
     "collapsed": false,
     "input": [
      "from sklearn.linear_model import Ridge"
     ],
     "language": "python",
     "metadata": {},
     "outputs": [],
     "prompt_number": 48
    },
    {
     "cell_type": "code",
     "collapsed": false,
     "input": [
      "ridge = Ridge()"
     ],
     "language": "python",
     "metadata": {},
     "outputs": [],
     "prompt_number": 49
    },
    {
     "cell_type": "code",
     "collapsed": false,
     "input": [
      "ridge.fit(X, Y)"
     ],
     "language": "python",
     "metadata": {},
     "outputs": [
      {
       "metadata": {},
       "output_type": "pyout",
       "prompt_number": 50,
       "text": [
        "Ridge(alpha=1.0, copy_X=True, fit_intercept=True, max_iter=None,\n",
        "   normalize=False, solver='auto', tol=0.001)"
       ]
      }
     ],
     "prompt_number": 50
    },
    {
     "cell_type": "code",
     "collapsed": false,
     "input": [
      "Y_pred = ridge.predict(X)"
     ],
     "language": "python",
     "metadata": {},
     "outputs": [],
     "prompt_number": 51
    },
    {
     "cell_type": "code",
     "collapsed": false,
     "input": [
      "fig, axs = plt.subplots(1, 3, figsize=(12, 4));\n",
      "for i in range(3):\n",
      "    axs[i].plot(Y[:, i], Y_pred[:, i], marker='.', ms=0.5, ls='');\n",
      "    axs[i].set_title(depvars[i])"
     ],
     "language": "python",
     "metadata": {},
     "outputs": [
      {
       "metadata": {},
       "output_type": "display_data",
       "png": "[encoded data removed]",
       "text": [
        "<matplotlib.figure.Figure at 0x10c162490>"
       ]
      }
     ],
     "prompt_number": 52
    },
    {
     "cell_type": "code",
     "collapsed": false,
     "input": [
      "ridge.score(X, Y)"
     ],
     "language": "python",
     "metadata": {},
     "outputs": [
      {
       "metadata": {},
       "output_type": "pyout",
       "prompt_number": 53,
       "text": [
        "0.62241583955108482"
       ]
      }
     ],
     "prompt_number": 53
    },
    {
     "cell_type": "code",
     "collapsed": false,
     "input": [
      "for i in xrange(Y.shape[1]):\n",
      "    corrcoef = np.corrcoef(Y[:,i], Y_pred[:,i])[0, 1]\n",
      "    print '%s: %.4f' % (depvars[i], corrcoef)\n",
      "    "
     ],
     "language": "python",
     "metadata": {},
     "outputs": [
      {
       "output_type": "stream",
       "stream": "stdout",
       "text": [
        "num_views: 0.7910\n",
        "num_votes: 0.7753\n",
        "num_comments: 0.4989\n"
       ]
      }
     ],
     "prompt_number": 59
    },
    {
     "cell_type": "markdown",
     "metadata": {},
     "source": [
      "### fit Random Forest predicting views, votes, and comments with words counts"
     ]
    },
    {
     "cell_type": "code",
     "collapsed": false,
     "input": [
      "from sklearn.ensemble import RandomForestRegressor"
     ],
     "language": "python",
     "metadata": {},
     "outputs": [],
     "prompt_number": 60
    },
    {
     "cell_type": "code",
     "collapsed": false,
     "input": [
      "forest = RandomForestRegressor()"
     ],
     "language": "python",
     "metadata": {},
     "outputs": [],
     "prompt_number": 61
    },
    {
     "cell_type": "code",
     "collapsed": false,
     "input": [
      "forest.fit(X, Y)"
     ],
     "language": "python",
     "metadata": {},
     "outputs": [
      {
       "metadata": {},
       "output_type": "pyout",
       "prompt_number": 62,
       "text": [
        "RandomForestRegressor(bootstrap=True, compute_importances=None,\n",
        "           criterion='mse', max_depth=None, max_features='auto',\n",
        "           min_density=None, min_samples_leaf=1, min_samples_split=2,\n",
        "           n_estimators=10, n_jobs=1, oob_score=False, random_state=None,\n",
        "           verbose=0)"
       ]
      }
     ],
     "prompt_number": 62
    },
    {
     "cell_type": "code",
     "collapsed": false,
     "input": [
      "Y_pred = forest.transform(X)"
     ],
     "language": "python",
     "metadata": {},
     "outputs": [],
     "prompt_number": 63
    },
    {
     "cell_type": "code",
     "collapsed": false,
     "input": [
      "from sklearn.metrics."
     ],
     "language": "python",
     "metadata": {},
     "outputs": [
      {
       "metadata": {},
       "output_type": "pyout",
       "prompt_number": 65,
       "text": [
        "0.8191560939315955"
       ]
      }
     ],
     "prompt_number": 65
    },
    {
     "cell_type": "code",
     "collapsed": false,
     "input": [
      "fig, axs = plt.subplots(1, 3, figsize=(12, 4));\n",
      "for i in range(3):\n",
      "    axs[i].plot(Y[:, i], Y_pred[:, i], marker='.', ms=0.5, ls='');\n",
      "    axs[i].set_title(depvars[i])"
     ],
     "language": "python",
     "metadata": {},
     "outputs": [
      {
       "metadata": {},
       "output_type": "display_data",
       "png": "[encoded data removed]",
       "text": [
        "<matplotlib.figure.Figure at 0x105de6d50>"
       ]
      }
     ],
     "prompt_number": 66
    },
    {
     "cell_type": "code",
     "collapsed": false,
     "input": [],
     "language": "python",
     "metadata": {},
     "outputs": []
    }
   ],
   "metadata": {}
  }
 ]
}